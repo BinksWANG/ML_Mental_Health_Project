{
 "cells": [
  {
   "cell_type": "code",
   "execution_count": 5,
   "id": "51335419",
   "metadata": {},
   "outputs": [
    {
     "name": "stdout",
     "output_type": "stream",
     "text": [
      "Python 3.9.23\n"
     ]
    }
   ],
   "source": [
    "!python -V"
   ]
  },
  {
   "cell_type": "code",
   "execution_count": 6,
   "id": "70f3be4d",
   "metadata": {},
   "outputs": [],
   "source": [
    "import pandas as pd\n",
    "import pickle\n",
    "import seaborn as sns\n",
    "import matplotlib.pyplot as plt\n",
    "\n",
    "from sklearn.feature_extraction import DictVectorizer\n",
    "from sklearn.linear_model import LogisticRegression\n",
    "from sklearn.metrics import classification_report, accuracy_score, confusion_matrix\n",
    "from sklearn.model_selection import train_test_split\n",
    "\n",
    "import mlflow"
   ]
  },
  {
   "cell_type": "code",
   "execution_count": 7,
   "id": "c2f0d0df",
   "metadata": {},
   "outputs": [],
   "source": [
    "df = pd.read_csv('../data/mental_health_dataset.csv')"
   ]
  },
  {
   "cell_type": "code",
   "execution_count": 8,
   "id": "9089b56c",
   "metadata": {},
   "outputs": [],
   "source": [
    "df"
   ]
  },
  {
   "cell_type": "code",
   "execution_count": 9,
   "id": "1174eb63",
   "metadata": {},
   "outputs": [],
   "source": [
    "# Data cleaning\n",
    "# Fill missing severity with 'Unknown'\n",
    "df['Severity'] = df['Severity'].fillna('Unknown')"
   ]
  },
  {
   "cell_type": "code",
   "execution_count": 10,
   "id": "525e8913",
   "metadata": {},
   "outputs": [],
   "source": [
    "# Convert binary columns to 0/1\n",
    "df['Mental_Health_Condition'] = df['Mental_Health_Condition'].map({'Yes': 1, 'No': 0})\n",
    "df['Consultation_History'] = df['Consultation_History'].map({'Yes': 1, 'No': 0})"
   ]
  },
  {
   "cell_type": "code",
   "execution_count": 11,
   "id": "2b8d3392",
   "metadata": {},
   "outputs": [],
   "source": [
    "# Select features and target\n",
    "categorical = ['Gender', 'Occupation', 'Country', 'Severity']\n",
    "numerical = ['Age', 'Sleep_Hours', 'Work_Hours', 'Physical_Activity_Hours']\n",
    "target = 'Stress_Level'"
   ]
  },
  {
   "cell_type": "code",
   "execution_count": 12,
   "id": "dd80a115",
   "metadata": {},
   "outputs": [],
   "source": [
    "# Split data into train and test sets\n",
    "df_train, df_test = train_test_split(df, test_size=0.2, random_state=42)"
   ]
  },
  {
   "cell_type": "code",
   "execution_count": 13,
   "id": "4d1a6bdb",
   "metadata": {},
   "outputs": [],
   "source": [
    "# Prepare the features\n",
    "train_dicts = df_train[categorical + numerical].to_dict(orient='records')\n",
    "dv = DictVectorizer()\n",
    "X_train = dv.fit_transform(train_dicts)\n",
    "\n",
    "y_train = df_train[target].values"
   ]
  },
  {
   "cell_type": "code",
   "execution_count": 14,
   "id": "79e3ae12",
   "metadata": {},
   "outputs": [],
   "source": [
    "# Train a model (using Random Forest as it often works better with categorical data)\n",
    "model = RandomForestClassifier(n_estimators=100, random_state=42)\n",
    "model.fit(X_train, y_train)"
   ]
  },
  {
   "cell_type": "code",
   "execution_count": null,
   "id": "8e07c180",
   "metadata": {},
   "outputs": [],
   "source": [
    "# Prepare test data\n",
    "test_dicts = df_test[categorical + numerical].to_dict(orient='records')\n",
    "X_test = dv.transform(test_dicts)\n",
    "y_test = df_test[target].values\n",
    "\n",
    "# Make predictions\n",
    "y_pred = model.predict(X_test)"
   ]
  },
  {
   "cell_type": "code",
   "execution_count": null,
   "id": "5f8bfa50",
   "metadata": {},
   "outputs": [],
   "source": [
    "# Evaluate the model\n",
    "print(classification_report(y_test, y_pred))\n",
    "\n",
    "# Feature importance visualization\n",
    "feature_importances = pd.DataFrame({\n",
    "    'feature': dv.get_feature_names_out(),\n",
    "    'importance': model.feature_importances_\n",
    "}).sort_values('importance', ascending=False)\n",
    "\n",
    "plt.figure(figsize=(10, 6))\n",
    "sns.barplot(x='importance', y='feature', data=feature_importances.head(10))\n",
    "plt.title('Top 10 Important Features for Stress Level Prediction')\n",
    "plt.show()"
   ]
  }
 ],
 "metadata": {
  "kernelspec": {
   "display_name": "ml-env",
   "language": "python",
   "name": "python3"
  },
  "language_info": {
   "codemirror_mode": {
    "name": "ipython",
    "version": 3
   },
   "file_extension": ".py",
   "mimetype": "text/x-python",
   "name": "python",
   "nbconvert_exporter": "python",
   "pygments_lexer": "ipython3",
   "version": "3.9.23"
  }
 },
 "nbformat": 4,
 "nbformat_minor": 5
}
