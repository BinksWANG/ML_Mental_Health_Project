{
 "cells": [
  {
   "cell_type": "code",
   "execution_count": 1,
   "id": "688e84fc",
   "metadata": {},
   "outputs": [
    {
     "name": "stdout",
     "output_type": "stream",
     "text": [
      "Python 3.9.23\n"
     ]
    }
   ],
   "source": [
    "!python -V"
   ]
  },
  {
   "cell_type": "code",
   "execution_count": 2,
   "id": "b155a94e",
   "metadata": {},
   "outputs": [],
   "source": [
    "import pandas as pd"
   ]
  },
  {
   "cell_type": "code",
   "execution_count": 3,
   "id": "1c02ba9c",
   "metadata": {},
   "outputs": [
    {
     "name": "stderr",
     "output_type": "stream",
     "text": [
      "2025/07/09 04:04:35 INFO mlflow.store.db.utils: Creating initial MLflow database tables...\n",
      "2025/07/09 04:04:35 INFO mlflow.store.db.utils: Updating database tables\n",
      "INFO  [alembic.runtime.migration] Context impl SQLiteImpl.\n",
      "INFO  [alembic.runtime.migration] Will assume non-transactional DDL.\n",
      "INFO  [alembic.runtime.migration] Context impl SQLiteImpl.\n",
      "INFO  [alembic.runtime.migration] Will assume non-transactional DDL.\n"
     ]
    },
    {
     "data": {
      "text/plain": [
       "<Experiment: artifact_location='/home/binks/ML_Mental_Health_Project/notebooks/mlruns/1', creation_time=1752029757507, experiment_id='1', last_update_time=1752029757507, lifecycle_stage='active', name='mental-health-experiment', tags={}>"
      ]
     },
     "execution_count": 3,
     "metadata": {},
     "output_type": "execute_result"
    }
   ],
   "source": [
    "import mlflow\n",
    "\n",
    "mlflow.set_tracking_uri(\"sqlite:///mlflow.db\")\n",
    "mlflow.set_experiment(\"mental-health-experiment\")"
   ]
  },
  {
   "cell_type": "code",
   "execution_count": 4,
   "id": "9cba7d2e",
   "metadata": {},
   "outputs": [],
   "source": [
    "import mlflow.sklearn\n",
    "from mlflow.tracking import MlflowClient\n",
    "from sklearn.model_selection import train_test_split\n",
    "from sklearn.preprocessing import LabelEncoder\n",
    "from sklearn.linear_model import LogisticRegression\n",
    "from sklearn.metrics import accuracy_score, precision_score, recall_score, confusion_matrix\n",
    "import matplotlib.pyplot as plt\n",
    "import seaborn as sns\n",
    "import os"
   ]
  },
  {
   "cell_type": "code",
   "execution_count": 5,
   "id": "145db325",
   "metadata": {},
   "outputs": [],
   "source": [
    "df = pd.read_csv('../data/mental_health_dataset.csv')"
   ]
  },
  {
   "cell_type": "code",
   "execution_count": 6,
   "id": "7613ee3a",
   "metadata": {},
   "outputs": [
    {
     "data": {
      "text/html": [
       "<div>\n",
       "<style scoped>\n",
       "    .dataframe tbody tr th:only-of-type {\n",
       "        vertical-align: middle;\n",
       "    }\n",
       "\n",
       "    .dataframe tbody tr th {\n",
       "        vertical-align: top;\n",
       "    }\n",
       "\n",
       "    .dataframe thead th {\n",
       "        text-align: right;\n",
       "    }\n",
       "</style>\n",
       "<table border=\"1\" class=\"dataframe\">\n",
       "  <thead>\n",
       "    <tr style=\"text-align: right;\">\n",
       "      <th></th>\n",
       "      <th>User_ID</th>\n",
       "      <th>Age</th>\n",
       "      <th>Gender</th>\n",
       "      <th>Occupation</th>\n",
       "      <th>Country</th>\n",
       "      <th>Mental_Health_Condition</th>\n",
       "      <th>Severity</th>\n",
       "      <th>Consultation_History</th>\n",
       "      <th>Stress_Level</th>\n",
       "      <th>Sleep_Hours</th>\n",
       "      <th>Work_Hours</th>\n",
       "      <th>Physical_Activity_Hours</th>\n",
       "    </tr>\n",
       "  </thead>\n",
       "  <tbody>\n",
       "    <tr>\n",
       "      <th>0</th>\n",
       "      <td>1</td>\n",
       "      <td>36</td>\n",
       "      <td>Non-binary</td>\n",
       "      <td>Sales</td>\n",
       "      <td>Canada</td>\n",
       "      <td>No</td>\n",
       "      <td>Medium</td>\n",
       "      <td>Yes</td>\n",
       "      <td>Medium</td>\n",
       "      <td>7.1</td>\n",
       "      <td>46</td>\n",
       "      <td>5</td>\n",
       "    </tr>\n",
       "    <tr>\n",
       "      <th>1</th>\n",
       "      <td>2</td>\n",
       "      <td>34</td>\n",
       "      <td>Female</td>\n",
       "      <td>Education</td>\n",
       "      <td>UK</td>\n",
       "      <td>Yes</td>\n",
       "      <td>NaN</td>\n",
       "      <td>No</td>\n",
       "      <td>Low</td>\n",
       "      <td>7.5</td>\n",
       "      <td>47</td>\n",
       "      <td>8</td>\n",
       "    </tr>\n",
       "    <tr>\n",
       "      <th>2</th>\n",
       "      <td>3</td>\n",
       "      <td>65</td>\n",
       "      <td>Non-binary</td>\n",
       "      <td>Sales</td>\n",
       "      <td>USA</td>\n",
       "      <td>Yes</td>\n",
       "      <td>High</td>\n",
       "      <td>No</td>\n",
       "      <td>Low</td>\n",
       "      <td>8.4</td>\n",
       "      <td>58</td>\n",
       "      <td>10</td>\n",
       "    </tr>\n",
       "    <tr>\n",
       "      <th>3</th>\n",
       "      <td>4</td>\n",
       "      <td>34</td>\n",
       "      <td>Male</td>\n",
       "      <td>Other</td>\n",
       "      <td>Australia</td>\n",
       "      <td>No</td>\n",
       "      <td>Low</td>\n",
       "      <td>No</td>\n",
       "      <td>Medium</td>\n",
       "      <td>9.8</td>\n",
       "      <td>30</td>\n",
       "      <td>2</td>\n",
       "    </tr>\n",
       "    <tr>\n",
       "      <th>4</th>\n",
       "      <td>5</td>\n",
       "      <td>22</td>\n",
       "      <td>Female</td>\n",
       "      <td>Healthcare</td>\n",
       "      <td>Canada</td>\n",
       "      <td>Yes</td>\n",
       "      <td>Low</td>\n",
       "      <td>No</td>\n",
       "      <td>Medium</td>\n",
       "      <td>4.9</td>\n",
       "      <td>62</td>\n",
       "      <td>5</td>\n",
       "    </tr>\n",
       "    <tr>\n",
       "      <th>...</th>\n",
       "      <td>...</td>\n",
       "      <td>...</td>\n",
       "      <td>...</td>\n",
       "      <td>...</td>\n",
       "      <td>...</td>\n",
       "      <td>...</td>\n",
       "      <td>...</td>\n",
       "      <td>...</td>\n",
       "      <td>...</td>\n",
       "      <td>...</td>\n",
       "      <td>...</td>\n",
       "      <td>...</td>\n",
       "    </tr>\n",
       "    <tr>\n",
       "      <th>995</th>\n",
       "      <td>996</td>\n",
       "      <td>46</td>\n",
       "      <td>Non-binary</td>\n",
       "      <td>Other</td>\n",
       "      <td>Germany</td>\n",
       "      <td>No</td>\n",
       "      <td>NaN</td>\n",
       "      <td>Yes</td>\n",
       "      <td>Low</td>\n",
       "      <td>9.3</td>\n",
       "      <td>50</td>\n",
       "      <td>0</td>\n",
       "    </tr>\n",
       "    <tr>\n",
       "      <th>996</th>\n",
       "      <td>997</td>\n",
       "      <td>31</td>\n",
       "      <td>Male</td>\n",
       "      <td>Sales</td>\n",
       "      <td>Canada</td>\n",
       "      <td>No</td>\n",
       "      <td>NaN</td>\n",
       "      <td>No</td>\n",
       "      <td>High</td>\n",
       "      <td>4.5</td>\n",
       "      <td>37</td>\n",
       "      <td>6</td>\n",
       "    </tr>\n",
       "    <tr>\n",
       "      <th>997</th>\n",
       "      <td>998</td>\n",
       "      <td>33</td>\n",
       "      <td>Female</td>\n",
       "      <td>IT</td>\n",
       "      <td>Germany</td>\n",
       "      <td>No</td>\n",
       "      <td>High</td>\n",
       "      <td>Yes</td>\n",
       "      <td>Medium</td>\n",
       "      <td>9.7</td>\n",
       "      <td>73</td>\n",
       "      <td>10</td>\n",
       "    </tr>\n",
       "    <tr>\n",
       "      <th>998</th>\n",
       "      <td>999</td>\n",
       "      <td>42</td>\n",
       "      <td>Female</td>\n",
       "      <td>Finance</td>\n",
       "      <td>Australia</td>\n",
       "      <td>Yes</td>\n",
       "      <td>NaN</td>\n",
       "      <td>No</td>\n",
       "      <td>Medium</td>\n",
       "      <td>6.5</td>\n",
       "      <td>79</td>\n",
       "      <td>8</td>\n",
       "    </tr>\n",
       "    <tr>\n",
       "      <th>999</th>\n",
       "      <td>1000</td>\n",
       "      <td>43</td>\n",
       "      <td>Prefer not to say</td>\n",
       "      <td>Sales</td>\n",
       "      <td>Germany</td>\n",
       "      <td>No</td>\n",
       "      <td>Low</td>\n",
       "      <td>Yes</td>\n",
       "      <td>Low</td>\n",
       "      <td>6.0</td>\n",
       "      <td>61</td>\n",
       "      <td>7</td>\n",
       "    </tr>\n",
       "  </tbody>\n",
       "</table>\n",
       "<p>1000 rows × 12 columns</p>\n",
       "</div>"
      ],
      "text/plain": [
       "     User_ID  Age             Gender  Occupation    Country  \\\n",
       "0          1   36         Non-binary       Sales     Canada   \n",
       "1          2   34             Female   Education         UK   \n",
       "2          3   65         Non-binary       Sales        USA   \n",
       "3          4   34               Male       Other  Australia   \n",
       "4          5   22             Female  Healthcare     Canada   \n",
       "..       ...  ...                ...         ...        ...   \n",
       "995      996   46         Non-binary       Other    Germany   \n",
       "996      997   31               Male       Sales     Canada   \n",
       "997      998   33             Female          IT    Germany   \n",
       "998      999   42             Female     Finance  Australia   \n",
       "999     1000   43  Prefer not to say       Sales    Germany   \n",
       "\n",
       "    Mental_Health_Condition Severity Consultation_History Stress_Level  \\\n",
       "0                        No   Medium                  Yes       Medium   \n",
       "1                       Yes      NaN                   No          Low   \n",
       "2                       Yes     High                   No          Low   \n",
       "3                        No      Low                   No       Medium   \n",
       "4                       Yes      Low                   No       Medium   \n",
       "..                      ...      ...                  ...          ...   \n",
       "995                      No      NaN                  Yes          Low   \n",
       "996                      No      NaN                   No         High   \n",
       "997                      No     High                  Yes       Medium   \n",
       "998                     Yes      NaN                   No       Medium   \n",
       "999                      No      Low                  Yes          Low   \n",
       "\n",
       "     Sleep_Hours  Work_Hours  Physical_Activity_Hours  \n",
       "0            7.1          46                        5  \n",
       "1            7.5          47                        8  \n",
       "2            8.4          58                       10  \n",
       "3            9.8          30                        2  \n",
       "4            4.9          62                        5  \n",
       "..           ...         ...                      ...  \n",
       "995          9.3          50                        0  \n",
       "996          4.5          37                        6  \n",
       "997          9.7          73                       10  \n",
       "998          6.5          79                        8  \n",
       "999          6.0          61                        7  \n",
       "\n",
       "[1000 rows x 12 columns]"
      ]
     },
     "execution_count": 6,
     "metadata": {},
     "output_type": "execute_result"
    }
   ],
   "source": [
    "df"
   ]
  },
  {
   "cell_type": "code",
   "execution_count": 7,
   "id": "e11526d0",
   "metadata": {},
   "outputs": [
    {
     "name": "stdout",
     "output_type": "stream",
     "text": [
      "User_ID                      int64\n",
      "Age                          int64\n",
      "Gender                      object\n",
      "Occupation                  object\n",
      "Country                     object\n",
      "Mental_Health_Condition     object\n",
      "Severity                    object\n",
      "Consultation_History        object\n",
      "Stress_Level                object\n",
      "Sleep_Hours                float64\n",
      "Work_Hours                   int64\n",
      "Physical_Activity_Hours      int64\n",
      "dtype: object\n"
     ]
    }
   ],
   "source": [
    "print(df.dtypes)"
   ]
  },
  {
   "cell_type": "code",
   "execution_count": 8,
   "id": "e3a071f5",
   "metadata": {},
   "outputs": [],
   "source": [
    "# Drop User_ID (not a predictor)\n",
    "df = df.drop('User_ID', axis=1)"
   ]
  },
  {
   "cell_type": "code",
   "execution_count": 9,
   "id": "d869b63e",
   "metadata": {},
   "outputs": [],
   "source": [
    "# Encode target column (Yes=1, No=0)\n",
    "le = LabelEncoder()\n",
    "df['Mental_Health_Condition'] = le.fit_transform(df['Mental_Health_Condition'])"
   ]
  },
  {
   "cell_type": "code",
   "execution_count": 10,
   "id": "f11139cf",
   "metadata": {},
   "outputs": [
    {
     "name": "stdout",
     "output_type": "stream",
     "text": [
      "Categorical columns to encode: ['Gender', 'Occupation', 'Country', 'Severity', 'Consultation_History', 'Stress_Level']\n"
     ]
    }
   ],
   "source": [
    "# Identify categorical columns (object type)\n",
    "categorical_cols = df.select_dtypes(include=['object']).columns.tolist()\n",
    "print(\"Categorical columns to encode:\", categorical_cols)"
   ]
  },
  {
   "cell_type": "code",
   "execution_count": 11,
   "id": "a0ca5f8f",
   "metadata": {},
   "outputs": [],
   "source": [
    "# One-hot encode categorical features\n",
    "df = pd.get_dummies(df, columns=categorical_cols, drop_first=True)"
   ]
  },
  {
   "cell_type": "code",
   "execution_count": 12,
   "id": "7e33189f",
   "metadata": {},
   "outputs": [],
   "source": [
    "# Split features and target\n",
    "X = df.drop('Mental_Health_Condition', axis=1)\n",
    "y = df['Mental_Health_Condition']"
   ]
  },
  {
   "cell_type": "code",
   "execution_count": 13,
   "id": "c148e3d7",
   "metadata": {},
   "outputs": [],
   "source": [
    "# Train-test split (80% train, 20% test)\n",
    "X_train, X_test, y_train, y_test = train_test_split(\n",
    "    X, y, test_size=0.2, random_state=42\n",
    ")"
   ]
  },
  {
   "cell_type": "code",
   "execution_count": 14,
   "id": "56394ea4",
   "metadata": {},
   "outputs": [
    {
     "name": "stdout",
     "output_type": "stream",
     "text": [
      "\n",
      "Feature data types after encoding:\n",
      " Age                           int64\n",
      "Sleep_Hours                 float64\n",
      "Work_Hours                    int64\n",
      "Physical_Activity_Hours       int64\n",
      "Gender_Male                    bool\n",
      "Gender_Non-binary              bool\n",
      "Gender_Prefer not to say       bool\n",
      "Occupation_Engineering         bool\n",
      "Occupation_Finance             bool\n",
      "Occupation_Healthcare          bool\n",
      "Occupation_IT                  bool\n",
      "Occupation_Other               bool\n",
      "Occupation_Sales               bool\n",
      "Country_Canada                 bool\n",
      "Country_Germany                bool\n",
      "Country_India                  bool\n",
      "Country_Other                  bool\n",
      "Country_UK                     bool\n",
      "Country_USA                    bool\n",
      "Severity_Low                   bool\n",
      "Severity_Medium                bool\n",
      "Consultation_History_Yes       bool\n",
      "Stress_Level_Low               bool\n",
      "Stress_Level_Medium            bool\n",
      "dtype: object\n"
     ]
    }
   ],
   "source": [
    "# Sanity check: all features are numeric\n",
    "print(\"\\nFeature data types after encoding:\\n\", X_train.dtypes)"
   ]
  },
  {
   "cell_type": "code",
   "execution_count": 15,
   "id": "a9d5f821",
   "metadata": {},
   "outputs": [
    {
     "name": "stdout",
     "output_type": "stream",
     "text": [
      "🔗 MLflow run ID: 6917559b0518430980c9f1116feaf573\n",
      "\n",
      "✅ Accuracy: 0.5100, Precision: 0.5000, Recall: 0.6735\n"
     ]
    },
    {
     "name": "stderr",
     "output_type": "stream",
     "text": [
      "/home/binks/anaconda3/envs/ml-env/lib/python3.9/site-packages/sklearn/linear_model/_logistic.py:465: ConvergenceWarning: lbfgs failed to converge (status=1):\n",
      "STOP: TOTAL NO. of ITERATIONS REACHED LIMIT.\n",
      "\n",
      "Increase the number of iterations (max_iter) or scale the data as shown in:\n",
      "    https://scikit-learn.org/stable/modules/preprocessing.html\n",
      "Please also refer to the documentation for alternative solver options:\n",
      "    https://scikit-learn.org/stable/modules/linear_model.html#logistic-regression\n",
      "  n_iter_i = _check_optimize_result(\n",
      "2025/07/09 04:05:34 WARNING mlflow.models.model: `artifact_path` is deprecated. Please use `name` instead.\n",
      "\u001b[31m2025/07/09 04:05:38 WARNING mlflow.models.model: Model logged without a signature and input example. Please set `input_example` parameter when logging the model to auto infer the model signature.\u001b[0m\n",
      "2025/07/09 04:05:38 INFO mlflow.store.db.utils: Creating initial MLflow database tables...\n",
      "2025/07/09 04:05:38 INFO mlflow.store.db.utils: Updating database tables\n",
      "INFO  [alembic.runtime.migration] Context impl SQLiteImpl.\n",
      "INFO  [alembic.runtime.migration] Will assume non-transactional DDL.\n",
      "Successfully registered model 'MentalHealthPredictionModel'.\n",
      "2025/07/09 04:05:38 WARNING mlflow.tracking._model_registry.fluent: Run with id 6917559b0518430980c9f1116feaf573 has no artifacts at artifact path 'model', registering model based on models:/m-1af99ad7fbe548b68a933d317d81ea6f instead\n",
      "Created version '1' of model 'MentalHealthPredictionModel'.\n",
      "/tmp/ipykernel_156996/2151825591.py:64: FutureWarning: ``mlflow.tracking.client.MlflowClient.transition_model_version_stage`` is deprecated since 2.9.0. Model registry stages will be removed in a future major release. To learn more about the deprecation of model registry stages, see our migration guide here: https://mlflow.org/docs/latest/model-registry.html#migrating-from-stages\n",
      "  client.transition_model_version_stage(\n"
     ]
    },
    {
     "name": "stdout",
     "output_type": "stream",
     "text": [
      "\n",
      "📦 Registered model: MentalHealthPredictionModel (version 1)\n",
      "🚀 Promoted model version 1 to Production\n"
     ]
    }
   ],
   "source": [
    "with mlflow.start_run() as run:\n",
    "    run_id = run.info.run_id\n",
    "    print(f\"🔗 MLflow run ID: {run_id}\")\n",
    "\n",
    "    # -------------------------------\n",
    "    # 🔥 Train Logistic Regression model\n",
    "    # -------------------------------\n",
    "    model = LogisticRegression(max_iter=200, random_state=42)\n",
    "    model.fit(X_train, y_train)\n",
    "\n",
    "    # -------------------------------\n",
    "    # 📊 Evaluate model\n",
    "    # -------------------------------\n",
    "    y_pred = model.predict(X_test)\n",
    "    acc = accuracy_score(y_test, y_pred)\n",
    "    prec = precision_score(y_test, y_pred)\n",
    "    rec = recall_score(y_test, y_pred)\n",
    "\n",
    "    print(f\"\\n✅ Accuracy: {acc:.4f}, Precision: {prec:.4f}, Recall: {rec:.4f}\")\n",
    "\n",
    "    # -------------------------------\n",
    "    # 📌 Log parameters and metrics\n",
    "    # -------------------------------\n",
    "    mlflow.log_param(\"model_type\", \"LogisticRegression\")\n",
    "    mlflow.log_param(\"max_iter\", 200)\n",
    "    mlflow.log_metric(\"accuracy\", acc)\n",
    "    mlflow.log_metric(\"precision\", prec)\n",
    "    mlflow.log_metric(\"recall\", rec)\n",
    "\n",
    "    # -------------------------------\n",
    "    # 📊 Log confusion matrix as artifact\n",
    "    # -------------------------------\n",
    "    cm = confusion_matrix(y_test, y_pred)\n",
    "    plt.figure(figsize=(5, 4))\n",
    "    sns.heatmap(cm, annot=True, fmt='d', cmap='Blues', xticklabels=['No', 'Yes'], yticklabels=['No', 'Yes'])\n",
    "    plt.xlabel('Predicted')\n",
    "    plt.ylabel('Actual')\n",
    "    plt.title('Confusion Matrix')\n",
    "\n",
    "    # Save plot locally and log as artifact\n",
    "    cm_path = \"confusion_matrix.png\"\n",
    "    plt.savefig(cm_path)\n",
    "    mlflow.log_artifact(cm_path)\n",
    "    plt.close()\n",
    "\n",
    "    # -------------------------------\n",
    "    # 💾 Log trained model\n",
    "    # -------------------------------\n",
    "    mlflow.sklearn.log_model(model, \"model\")\n",
    "\n",
    "    # ==========================================\n",
    "    # 📦 Register model in Model Registry\n",
    "    # ==========================================\n",
    "    model_uri = f\"runs:/{run_id}/model\"\n",
    "    registered_model_name = \"MentalHealthPredictionModel\"\n",
    "\n",
    "    result = mlflow.register_model(model_uri, registered_model_name)\n",
    "    print(f\"\\n📦 Registered model: {registered_model_name} (version {result.version})\")\n",
    "\n",
    "    # ==========================================\n",
    "    # 🚦 Promote model to Production\n",
    "    # ==========================================\n",
    "    client = MlflowClient()\n",
    "    client.transition_model_version_stage(\n",
    "        name=registered_model_name,\n",
    "        version=result.version,\n",
    "        stage=\"Production\",\n",
    "        archive_existing_versions=True  # Archive older production models\n",
    "    )\n",
    "    print(f\"🚀 Promoted model version {result.version} to Production\")"
   ]
  },
  {
   "cell_type": "code",
   "execution_count": null,
   "id": "f8639027",
   "metadata": {},
   "outputs": [],
   "source": []
  }
 ],
 "metadata": {
  "kernelspec": {
   "display_name": "ml-env",
   "language": "python",
   "name": "python3"
  },
  "language_info": {
   "codemirror_mode": {
    "name": "ipython",
    "version": 3
   },
   "file_extension": ".py",
   "mimetype": "text/x-python",
   "name": "python",
   "nbconvert_exporter": "python",
   "pygments_lexer": "ipython3",
   "version": "3.9.23"
  }
 },
 "nbformat": 4,
 "nbformat_minor": 5
}
